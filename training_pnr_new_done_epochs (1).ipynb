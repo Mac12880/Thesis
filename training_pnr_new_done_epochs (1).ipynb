{
 "cells": [
  {
   "cell_type": "code",
   "execution_count": 310,
   "metadata": {
    "id": "LeiYfhNn3juF"
   },
   "outputs": [],
   "source": [
    "#import libraries\n",
    "import numpy as np\n",
    "import matplotlib.pyplot as plt\n",
    "import os\n",
    "import cv2\n",
    "import random\n",
    "import pickle\n",
    "from tensorflow.keras.utils import to_categorical"
   ]
  },
  {
   "cell_type": "code",
   "execution_count": 311,
   "metadata": {
    "id": "r7RGD9dc3juL"
   },
   "outputs": [],
   "source": [
    "#data path\n",
    "DATADIR = \"C:/Users/yelti/PycharmProjects/Tensorflow-TensorRT-master/Tensorflow-TensorRT-master/data-complete/train\" #train dataset folder\n",
    "DATADIR2 = \"C:/Users/yelti/PycharmProjects/Tensorflow-TensorRT-master/Tensorflow-TensorRT-master/data-complete/test\" #test dataset folder\n",
    "\n",
    "#classes\n",
    "CATEGORIES = [\"0\",\"1\",\"2\",\"3\",\"4\",\"5\",\"6\",\"7\",\"8\",\"9\",\"A\",\"B\",\"C\",\"D\",\"E\",\"F\",\"G\",\"H\",\"I\",\"J\",\"K\",\"L\",\"M\",\"N\",\"O\",\"P\",\"Q\",\"R\",\"S\",\"T\",\"U\",\"V\",\"W\",\"X\",\"Y\",\"Z\"] #total of 36 classes [0-9][A-Z]\n",
    "IMG_SIZE = 28 "
   ]
  },
  {
   "cell_type": "code",
   "execution_count": 312,
   "metadata": {
    "id": "4UyNadNK3juM"
   },
   "outputs": [],
   "source": [
    "#for accessing each folder\n",
    "\n",
    "#training data\n",
    "training_data = []\n",
    "def create_training_data():\n",
    "    for category in CATEGORIES:\n",
    "        path = os.path.join(DATADIR, category) #path to categories\n",
    "        class_num = CATEGORIES.index(category)\n",
    "        for img in os.listdir(path):\n",
    "            try: \n",
    "                img_array = cv2.imread(os.path.join(path,img), cv2.IMREAD_GRAYSCALE) #convert images to greyscale                \n",
    "                new_array = cv2.resize(img_array, (IMG_SIZE, IMG_SIZE)) #resizing images to 50x50\n",
    "                training_data.append([new_array, class_num])\n",
    "            except Exception as e:\n",
    "                pass\n",
    "create_training_data()\n",
    "\n",
    "#testing data\n",
    "testing_data = []\n",
    "def create_testing_data():\n",
    "    for category in CATEGORIES:\n",
    "        path = os.path.join(DATADIR2, category) #path to categories\n",
    "        class_num = CATEGORIES.index(category)\n",
    "        for img in os.listdir(path):\n",
    "            try: \n",
    "                img_array = cv2.imread(os.path.join(path,img), cv2.IMREAD_GRAYSCALE)\n",
    "                new_array = cv2.resize(img_array, (IMG_SIZE, IMG_SIZE))\n",
    "                testing_data.append([new_array, class_num])\n",
    "            except Exception as e:\n",
    "                pass\n",
    "create_testing_data()"
   ]
  },
  {
   "cell_type": "code",
   "execution_count": 313,
   "metadata": {
    "id": "ecp_ZXJJ3juO"
   },
   "outputs": [],
   "source": [
    "#labels\n",
    "train_x = []\n",
    "train_y = []\n",
    "\n",
    "test_x = []\n",
    "test_y = []"
   ]
  },
  {
   "cell_type": "code",
   "execution_count": 314,
   "metadata": {
    "id": "f5x9xxAZ3juO"
   },
   "outputs": [],
   "source": [
    "for features, label in training_data: \n",
    "    train_x.append(features)\n",
    "    train_y.append(label)\n",
    "\n",
    "#convert image into 28x28x1 before feeding to network\n",
    "train_x = np.array(train_x).reshape(-1, IMG_SIZE, IMG_SIZE, 1) #1 is grayscale\n",
    "train_y = np.array(train_y).reshape(-1)\n",
    "\n",
    "\n",
    "for features, label in testing_data:\n",
    "    test_x.append(features)\n",
    "    test_y.append(label)\n",
    "test_x = np.array(test_x).reshape(-1, IMG_SIZE, IMG_SIZE, 1) #1 is grayscale\n",
    "test_y = np.array(test_y).reshape(-1)\n"
   ]
  },
  {
   "cell_type": "code",
   "execution_count": 315,
   "metadata": {
    "id": "7q5hpqzk3juP"
   },
   "outputs": [],
   "source": [
    "#pickle is used, so that we can save the data and we dont have to rerun it everytym\n",
    "\n",
    "# pickle_out = open(\"train_x.pickle\",\"wb\")\n",
    "# pickle.dump(train_x, pickle_out)\n",
    "# pickle_out.close()\n",
    "\n",
    "# pickle_out = open(\"train_y.pickle\",\"wb\")\n",
    "# pickle.dump(train_y, pickle_out)\n",
    "# pickle_out.close()\n",
    "\n",
    "# #test\n",
    "# pickle_out = open(\"test_x.pickle\",\"wb\")\n",
    "# pickle.dump(test_x, pickle_out)\n",
    "# pickle_out.close()\n",
    "\n",
    "# pickle_out = open(\"test_y.pickle\",\"wb\")\n",
    "# pickle.dump(test_y, pickle_out)\n",
    "# pickle_out.close()"
   ]
  },
  {
   "cell_type": "code",
   "execution_count": 316,
   "metadata": {
    "id": "8rqAPSFs3juQ"
   },
   "outputs": [],
   "source": [
    "# pickle_in = open(\"train_x.pickle\",\"rb\")\n",
    "# train_x = pickle.load(pickle_in)\n",
    "\n",
    "# pickle_in = open(\"train_y.pickle\",\"rb\")\n",
    "# train_y = pickle.load(pickle_in)\n",
    "\n",
    "# #test\n",
    "\n",
    "# pickle_in = open(\"test_x.pickle\",\"rb\")\n",
    "# test_x = pickle.load(pickle_in)\n",
    "\n",
    "# pickle_in = open(\"test_y.pickle\",\"rb\")\n",
    "# test_y = pickle.load(pickle_in)"
   ]
  },
  {
   "cell_type": "code",
   "execution_count": 317,
   "metadata": {
    "id": "Vl2CUXQX3juR",
    "outputId": "dffe3b09-addc-47fb-b547-9f268128b599"
   },
   "outputs": [
    {
     "name": "stdout",
     "output_type": "stream",
     "text": [
      "Training data shape :  (1111, 28, 28, 1) (1111,)\n",
      "Testing data shape :  (673, 28, 28, 1) (673,)\n"
     ]
    }
   ],
   "source": [
    "#for training data there are 1000+ images dimensions are 28x28x1\n",
    "#for testing data there are 600+ images dimensions are 28x28x1\n",
    "\n",
    "print('Training data shape : ', train_x.shape, train_y.shape)\n",
    "print('Testing data shape : ', test_x.shape, test_y.shape)\n"
   ]
  },
  {
   "cell_type": "code",
   "execution_count": 318,
   "metadata": {
    "id": "KFZWoF9c3juT",
    "outputId": "8357c222-a64f-4dc7-e5cd-3eac143664d3"
   },
   "outputs": [
    {
     "name": "stdout",
     "output_type": "stream",
     "text": [
      "Total number of outputs :  36\n",
      "Output classes :  [ 0  1  2  3  4  5  6  7  8  9 10 11 12 13 14 15 16 17 18 19 20 21 22 23\n",
      " 24 25 26 27 28 29 30 31 32 33 34 35]\n"
     ]
    }
   ],
   "source": [
    "# Find the unique numbers from the train labels\n",
    "\n",
    "classes = np.unique(train_y)\n",
    "nClasses = len(classes)\n",
    "print('Total number of outputs : ', nClasses)\n",
    "print('Output classes : ', classes)"
   ]
  },
  {
   "cell_type": "code",
   "execution_count": 319,
   "metadata": {
    "id": "wzPlms0B3juU",
    "outputId": "bfa60e39-8772-49d2-db56-467378069897"
   },
   "outputs": [
    {
     "data": {
      "text/plain": [
       "Text(0.5, 1.0, 'Ground Truth (testing): 0')"
      ]
     },
     "execution_count": 319,
     "metadata": {},
     "output_type": "execute_result"
    },
    {
     "data": {
      "image/png": "[encoded data removed]",
      "text/plain": [
       "<Figure size 360x360 with 2 Axes>"
      ]
     },
     "metadata": {
      "needs_background": "light"
     },
     "output_type": "display_data"
    }
   ],
   "source": [
    "plt.figure(figsize=[5,5])\n",
    "\n",
    "# Display the first image in training data\n",
    "plt.subplot(121)\n",
    "plt.imshow(train_x[0,:,:], cmap='gray')\n",
    "plt.title(\"Ground Truth (training): {}\".format(train_y[0]))\n",
    "\n",
    "# Display the first image in testing data\n",
    "plt.subplot(122)\n",
    "plt.imshow(test_x[0,:,:], cmap='gray')\n",
    "plt.title(\"Ground Truth (testing): {}\".format(test_y[0]))"
   ]
  },
  {
   "cell_type": "code",
   "execution_count": 320,
   "metadata": {
    "id": "RrBLw2hB3juV"
   },
   "outputs": [],
   "source": [
    "#3. DATA PREPROCESSING --------------------"
   ]
  },
  {
   "cell_type": "code",
   "execution_count": 321,
   "metadata": {
    "id": "N0u7QrBY3juW"
   },
   "outputs": [],
   "source": [
    "#convert int8 -> float32 format\n",
    "train_x = train_x.astype('float32')\n",
    "test_x = test_x.astype('float32')\n",
    "\n",
    "train_x = train_x / 255.\n",
    "test_x = test_x / 255."
   ]
  },
  {
   "cell_type": "code",
   "execution_count": 322,
   "metadata": {
    "id": "Jq7rrgCs3juW",
    "outputId": "0eb6b061-4d83-427e-8523-6bfb6c8a30a0"
   },
   "outputs": [
    {
     "name": "stdout",
     "output_type": "stream",
     "text": [
      "Original label: 0\n",
      "After conversion to one-hot: [1. 0. 0. 0. 0. 0. 0. 0. 0. 0. 0. 0. 0. 0. 0. 0. 0. 0. 0. 0. 0. 0. 0. 0.\n",
      " 0. 0. 0. 0. 0. 0. 0. 0. 0. 0. 0. 0.]\n"
     ]
    }
   ],
   "source": [
    "# Change the labels from categorical -> one-hot encoding\n",
    "train_y_one_hot = to_categorical(train_y)\n",
    "test_y_one_hot = to_categorical(test_y)\n",
    "\n",
    "# Display the change for category label using one-hot encoding\n",
    "print('Original label:', train_y[0])\n",
    "print('After conversion to one-hot:', train_y_one_hot[0])\n",
    "\n"
   ]
  },
  {
   "cell_type": "code",
   "execution_count": 323,
   "metadata": {
    "id": "08hWVT173juX"
   },
   "outputs": [],
   "source": [
    "#split dataset into training and validation set\n",
    "#20% of the training and validation dataset are not being trained to avoid overfitting; will help boost the test performance\n",
    "\n",
    "from sklearn.model_selection import train_test_split\n",
    "train_x,valid_x,train_label,valid_label = train_test_split(train_x, train_y_one_hot, train_size=0.2, random_state=13)"
   ]
  },
  {
   "cell_type": "code",
   "execution_count": 324,
   "metadata": {
    "id": "9r9RkeG03juY"
   },
   "outputs": [
    {
     "data": {
      "text/plain": [
       "((222, 28, 28, 1), (889, 28, 28, 1), (222, 36), (889, 36))"
      ]
     },
     "execution_count": 324,
     "metadata": {},
     "output_type": "execute_result"
    }
   ],
   "source": [
    "#checking the shape of training and validation set after splitting dataset\n",
    "train_x.shape, valid_x.shape, train_label.shape, valid_label.shape\n",
    "\n",
    "#222- TRAINING\n",
    "#889 - VALIDATION\n",
    "# = 1111"
   ]
  },
  {
   "cell_type": "code",
   "execution_count": 325,
   "metadata": {
    "id": "lJS79NUZ3juY"
   },
   "outputs": [],
   "source": [
    "#4. THE NETWORK ------------------\n",
    "# 3 convolutional layers: 32-3x3 filters;64-3 x 3 filters;128-3 x 3 filters\n",
    "# architecture model: INPUT -> (1) 32-3x3 convolution filter -> max pooling 2x2 -> (2) 64-3x3 convolution filter \n",
    "# -> max pooling 2x2 -> (3) 128-3x3 convolution filter -> max pooling -> dropout -> flatten -> dense layer -> OUTPUT"
   ]
  },
  {
   "cell_type": "code",
   "execution_count": 326,
   "metadata": {
    "id": "aGtRcfa83juZ"
   },
   "outputs": [],
   "source": [
    "#MODEL THE DATA\n",
    "\n",
    "import keras\n",
    "from tensorflow import keras\n",
    "from keras.models import Sequential,Input,Model\n",
    "from keras.layers import Dense, Dropout, Flatten\n",
    "from keras.layers import Conv2D, MaxPooling2D\n",
    "from tensorflow.keras.layers import BatchNormalization\n",
    "from keras.layers.advanced_activations import LeakyReLU"
   ]
  },
  {
   "cell_type": "code",
   "execution_count": 327,
   "metadata": {},
   "outputs": [],
   "source": [
    "batch_size = 64\n",
    "epochs = 50\n",
    "num_classes = 36\n",
    "\n",
    "#Batch size = number of training examples utilized in one iteration.\n",
    "#no of epochs: As the number of epochs increases, \n",
    "#more number of times the weight are changed in the neural network \n",
    "#and the curve goes from underfitting to optimal to overfitting curve.\n"
   ]
  },
  {
   "cell_type": "code",
   "execution_count": 328,
   "metadata": {
    "id": "qTOmRtZ53juZ"
   },
   "outputs": [],
   "source": [
    "#5. NEURAL NETWORK ARCHITECTURE-------------------------\n",
    "# CONV2D, RELU, MAXPOOLING2D, DROPOUT, FLATTEN, DENSE"
   ]
  },
  {
   "cell_type": "code",
   "execution_count": 329,
   "metadata": {
    "id": "OwuI0AQx3jua"
   },
   "outputs": [],
   "source": [
    "#with dropout\n",
    "\n",
    "plate_model = Sequential()\n",
    "\n",
    "#first convolution layer 32-3x3 filter ------------------------\n",
    "plate_model.add(Conv2D(32, kernel_size=(3, 3),activation='linear',padding='same',input_shape=(28,28,1)))\n",
    "plate_model.add(LeakyReLU(alpha=0.1))\n",
    "#max pooling 2x2\n",
    "plate_model.add(MaxPooling2D((2, 2),padding='same'))\n",
    "#adding dropout for overfitting\n",
    "plate_model.add(Dropout(0.25))\n",
    "\n",
    "#second convolution layer 64-3x3 filter ---------------------- \n",
    "plate_model.add(Conv2D(64, (3, 3), activation='linear',padding='same'))\n",
    "plate_model.add(LeakyReLU(alpha=0.1))\n",
    "plate_model.add(MaxPooling2D(pool_size=(2, 2),padding='same'))\n",
    "plate_model.add(Dropout(0.25))\n",
    "\n",
    "#second convolution layer 128-3x3 filter ---------------------- \n",
    "plate_model.add(Conv2D(128, (3, 3), activation='linear',padding='same'))\n",
    "plate_model.add(LeakyReLU(alpha=0.1))                  \n",
    "plate_model.add(MaxPooling2D(pool_size=(2, 2),padding='same'))\n",
    "plate_model.add(Dropout(0.4))\n",
    "#adding flatten layer\n",
    "plate_model.add(Flatten())\n",
    "plate_model.add(LeakyReLU(alpha=0.1))           \n",
    "plate_model.add(Dropout(0.3))\n",
    "#adding dense layer\n",
    "plate_model.add(Dense(36, activation='softmax'))\n",
    "\n",
    "\n",
    "#total of 16 added layers"
   ]
  },
  {
   "cell_type": "code",
   "execution_count": 330,
   "metadata": {
    "id": "5g_fS14h3jub"
   },
   "outputs": [],
   "source": [
    "#output layer \n",
    "plate_model.compile(loss = keras.losses.categorical_crossentropy, \n",
    "                    optimizer = keras.optimizers.Adam(), #compile the model using adam optimizer\n",
    "                    metrics = ['accuracy'])"
   ]
  },
  {
   "cell_type": "code",
   "execution_count": 331,
   "metadata": {
    "id": "lqfmM-6q3jub",
    "scrolled": true
   },
   "outputs": [
    {
     "name": "stdout",
     "output_type": "stream",
     "text": [
      "Model: \"sequential_10\"\n",
      "_________________________________________________________________\n",
      "Layer (type)                 Output Shape              Param #   \n",
      "=================================================================\n",
      "conv2d_30 (Conv2D)           (None, 28, 28, 32)        320       \n",
      "_________________________________________________________________\n",
      "leaky_re_lu_40 (LeakyReLU)   (None, 28, 28, 32)        0         \n",
      "_________________________________________________________________\n",
      "max_pooling2d_30 (MaxPooling (None, 14, 14, 32)        0         \n",
      "_________________________________________________________________\n",
      "dropout_40 (Dropout)         (None, 14, 14, 32)        0         \n",
      "_________________________________________________________________\n",
      "conv2d_31 (Conv2D)           (None, 14, 14, 64)        18496     \n",
      "_________________________________________________________________\n",
      "leaky_re_lu_41 (LeakyReLU)   (None, 14, 14, 64)        0         \n",
      "_________________________________________________________________\n",
      "max_pooling2d_31 (MaxPooling (None, 7, 7, 64)          0         \n",
      "_________________________________________________________________\n",
      "dropout_41 (Dropout)         (None, 7, 7, 64)          0         \n",
      "_________________________________________________________________\n",
      "conv2d_32 (Conv2D)           (None, 7, 7, 128)         73856     \n",
      "_________________________________________________________________\n",
      "leaky_re_lu_42 (LeakyReLU)   (None, 7, 7, 128)         0         \n",
      "_________________________________________________________________\n",
      "max_pooling2d_32 (MaxPooling (None, 4, 4, 128)         0         \n",
      "_________________________________________________________________\n",
      "dropout_42 (Dropout)         (None, 4, 4, 128)         0         \n",
      "_________________________________________________________________\n",
      "flatten_10 (Flatten)         (None, 2048)              0         \n",
      "_________________________________________________________________\n",
      "leaky_re_lu_43 (LeakyReLU)   (None, 2048)              0         \n",
      "_________________________________________________________________\n",
      "dropout_43 (Dropout)         (None, 2048)              0         \n",
      "_________________________________________________________________\n",
      "dense_13 (Dense)             (None, 36)                73764     \n",
      "=================================================================\n",
      "Total params: 166,436\n",
      "Trainable params: 166,436\n",
      "Non-trainable params: 0\n",
      "_________________________________________________________________\n"
     ]
    }
   ],
   "source": [
    "#VISUALIZE THE LAYERS\n",
    "plate_model.summary()"
   ]
  },
  {
   "cell_type": "code",
   "execution_count": 332,
   "metadata": {
    "id": "XVTwDTwA3juc"
   },
   "outputs": [],
   "source": [
    "#7.TRAIN THE MODEL ------------------------------"
   ]
  },
  {
   "cell_type": "code",
   "execution_count": 333,
   "metadata": {
    "id": "HPMa0kyI3jud"
   },
   "outputs": [
    {
     "name": "stdout",
     "output_type": "stream",
     "text": [
      "Epoch 1/50\n",
      "4/4 [==============================] - 1s 180ms/step - loss: 3.5427 - accuracy: 0.0586 - val_loss: 3.4363 - val_accuracy: 0.0529\n",
      "Epoch 2/50\n",
      "4/4 [==============================] - 0s 121ms/step - loss: 3.2920 - accuracy: 0.0811 - val_loss: 3.3155 - val_accuracy: 0.0529\n",
      "Epoch 3/50\n",
      "4/4 [==============================] - 0s 131ms/step - loss: 3.2703 - accuracy: 0.0676 - val_loss: 3.2979 - val_accuracy: 0.0967\n",
      "Epoch 4/50\n",
      "4/4 [==============================] - 0s 119ms/step - loss: 3.2388 - accuracy: 0.0946 - val_loss: 3.3270 - val_accuracy: 0.0562\n",
      "Epoch 5/50\n",
      "4/4 [==============================] - 0s 127ms/step - loss: 3.2302 - accuracy: 0.1126 - val_loss: 3.3386 - val_accuracy: 0.1406\n",
      "Epoch 6/50\n",
      "4/4 [==============================] - 0s 136ms/step - loss: 3.2185 - accuracy: 0.1036 - val_loss: 3.3085 - val_accuracy: 0.1024\n",
      "Epoch 7/50\n",
      "4/4 [==============================] - 0s 140ms/step - loss: 3.2126 - accuracy: 0.0811 - val_loss: 3.2910 - val_accuracy: 0.1339\n",
      "Epoch 8/50\n",
      "4/4 [==============================] - 0s 118ms/step - loss: 3.1696 - accuracy: 0.1126 - val_loss: 3.2858 - val_accuracy: 0.1339\n",
      "Epoch 9/50\n",
      "4/4 [==============================] - 0s 125ms/step - loss: 3.1570 - accuracy: 0.1081 - val_loss: 3.2648 - val_accuracy: 0.1642\n",
      "Epoch 10/50\n",
      "4/4 [==============================] - 0s 136ms/step - loss: 3.1508 - accuracy: 0.1081 - val_loss: 3.2326 - val_accuracy: 0.2486\n",
      "Epoch 11/50\n",
      "4/4 [==============================] - 0s 110ms/step - loss: 3.1040 - accuracy: 0.1982 - val_loss: 3.2132 - val_accuracy: 0.2778\n",
      "Epoch 12/50\n",
      "4/4 [==============================] - 0s 113ms/step - loss: 3.0804 - accuracy: 0.2117 - val_loss: 3.1560 - val_accuracy: 0.2992\n",
      "Epoch 13/50\n",
      "4/4 [==============================] - 0s 124ms/step - loss: 3.0056 - accuracy: 0.2207 - val_loss: 3.0853 - val_accuracy: 0.3296\n",
      "Epoch 14/50\n",
      "4/4 [==============================] - 0s 113ms/step - loss: 2.9360 - accuracy: 0.2523 - val_loss: 2.9799 - val_accuracy: 0.3498\n",
      "Epoch 15/50\n",
      "4/4 [==============================] - 0s 118ms/step - loss: 2.7846 - accuracy: 0.3423 - val_loss: 2.8513 - val_accuracy: 0.3622\n",
      "Epoch 16/50\n",
      "4/4 [==============================] - 0s 134ms/step - loss: 2.6479 - accuracy: 0.3604 - val_loss: 2.6733 - val_accuracy: 0.4567\n",
      "Epoch 17/50\n",
      "4/4 [==============================] - 1s 175ms/step - loss: 2.4424 - accuracy: 0.4189 - val_loss: 2.4500 - val_accuracy: 0.5096\n",
      "Epoch 18/50\n",
      "4/4 [==============================] - 0s 133ms/step - loss: 2.1496 - accuracy: 0.5135 - val_loss: 2.1833 - val_accuracy: 0.5737\n",
      "Epoch 19/50\n",
      "4/4 [==============================] - 0s 135ms/step - loss: 1.9288 - accuracy: 0.5135 - val_loss: 1.9772 - val_accuracy: 0.5793\n",
      "Epoch 20/50\n",
      "4/4 [==============================] - 0s 127ms/step - loss: 1.6777 - accuracy: 0.5856 - val_loss: 1.7414 - val_accuracy: 0.6367\n",
      "Epoch 21/50\n",
      "4/4 [==============================] - 0s 128ms/step - loss: 1.4252 - accuracy: 0.6532 - val_loss: 1.5431 - val_accuracy: 0.6828\n",
      "Epoch 22/50\n",
      "4/4 [==============================] - 1s 163ms/step - loss: 1.1879 - accuracy: 0.6847 - val_loss: 1.3877 - val_accuracy: 0.7075\n",
      "Epoch 23/50\n",
      "4/4 [==============================] - 1s 158ms/step - loss: 1.0657 - accuracy: 0.7027 - val_loss: 1.2883 - val_accuracy: 0.7030\n",
      "Epoch 24/50\n",
      "4/4 [==============================] - 0s 140ms/step - loss: 0.8665 - accuracy: 0.7342 - val_loss: 1.2803 - val_accuracy: 0.6974\n",
      "Epoch 25/50\n",
      "4/4 [==============================] - 1s 167ms/step - loss: 0.7426 - accuracy: 0.7793 - val_loss: 1.1044 - val_accuracy: 0.7424\n",
      "Epoch 26/50\n",
      "4/4 [==============================] - 0s 129ms/step - loss: 0.6811 - accuracy: 0.7838 - val_loss: 1.0863 - val_accuracy: 0.7525\n",
      "Epoch 27/50\n",
      "4/4 [==============================] - 0s 112ms/step - loss: 0.6439 - accuracy: 0.8153 - val_loss: 1.0946 - val_accuracy: 0.7492\n",
      "Epoch 28/50\n",
      "4/4 [==============================] - 0s 130ms/step - loss: 0.6571 - accuracy: 0.8198 - val_loss: 0.9394 - val_accuracy: 0.7694\n",
      "Epoch 29/50\n",
      "4/4 [==============================] - 0s 120ms/step - loss: 0.5296 - accuracy: 0.8423 - val_loss: 1.0003 - val_accuracy: 0.7784\n",
      "Epoch 30/50\n",
      "4/4 [==============================] - 0s 121ms/step - loss: 0.4324 - accuracy: 0.8784 - val_loss: 0.9947 - val_accuracy: 0.7705\n",
      "Epoch 31/50\n",
      "4/4 [==============================] - 0s 138ms/step - loss: 0.4083 - accuracy: 0.8874 - val_loss: 0.9115 - val_accuracy: 0.7829\n",
      "Epoch 32/50\n",
      "4/4 [==============================] - 0s 133ms/step - loss: 0.3209 - accuracy: 0.9144 - val_loss: 0.9102 - val_accuracy: 0.7942\n",
      "Epoch 33/50\n",
      "4/4 [==============================] - 0s 121ms/step - loss: 0.3395 - accuracy: 0.8829 - val_loss: 0.9067 - val_accuracy: 0.7942\n",
      "Epoch 34/50\n",
      "4/4 [==============================] - 0s 128ms/step - loss: 0.3129 - accuracy: 0.9054 - val_loss: 0.8883 - val_accuracy: 0.7863\n",
      "Epoch 35/50\n",
      "4/4 [==============================] - 0s 125ms/step - loss: 0.3209 - accuracy: 0.8919 - val_loss: 0.8719 - val_accuracy: 0.7930\n",
      "Epoch 36/50\n",
      "4/4 [==============================] - 0s 133ms/step - loss: 0.2497 - accuracy: 0.9279 - val_loss: 0.8681 - val_accuracy: 0.8054\n",
      "Epoch 37/50\n",
      "4/4 [==============================] - 0s 119ms/step - loss: 0.2995 - accuracy: 0.9459 - val_loss: 0.8088 - val_accuracy: 0.8211\n",
      "Epoch 38/50\n",
      "4/4 [==============================] - 0s 138ms/step - loss: 0.2529 - accuracy: 0.9234 - val_loss: 0.7979 - val_accuracy: 0.8155\n",
      "Epoch 39/50\n",
      "4/4 [==============================] - 0s 118ms/step - loss: 0.2622 - accuracy: 0.9189 - val_loss: 0.8221 - val_accuracy: 0.8088\n",
      "Epoch 40/50\n",
      "4/4 [==============================] - 0s 115ms/step - loss: 0.2589 - accuracy: 0.9324 - val_loss: 0.8076 - val_accuracy: 0.8211\n",
      "Epoch 41/50\n",
      "4/4 [==============================] - 0s 111ms/step - loss: 0.2027 - accuracy: 0.9414 - val_loss: 0.8320 - val_accuracy: 0.8133\n",
      "Epoch 42/50\n",
      "4/4 [==============================] - 0s 115ms/step - loss: 0.2113 - accuracy: 0.9324 - val_loss: 0.8145 - val_accuracy: 0.8110\n",
      "Epoch 43/50\n",
      "4/4 [==============================] - 0s 110ms/step - loss: 0.2015 - accuracy: 0.9324 - val_loss: 0.7993 - val_accuracy: 0.8256\n",
      "Epoch 44/50\n",
      "4/4 [==============================] - 0s 134ms/step - loss: 0.1592 - accuracy: 0.9234 - val_loss: 0.8214 - val_accuracy: 0.8166\n",
      "Epoch 45/50\n",
      "4/4 [==============================] - 0s 110ms/step - loss: 0.1798 - accuracy: 0.9459 - val_loss: 0.8966 - val_accuracy: 0.8133\n",
      "Epoch 46/50\n",
      "4/4 [==============================] - 0s 135ms/step - loss: 0.1243 - accuracy: 0.9730 - val_loss: 0.9335 - val_accuracy: 0.8043\n",
      "Epoch 47/50\n",
      "4/4 [==============================] - 1s 159ms/step - loss: 0.1589 - accuracy: 0.9459 - val_loss: 0.8723 - val_accuracy: 0.8133\n",
      "Epoch 48/50\n",
      "4/4 [==============================] - 0s 131ms/step - loss: 0.0957 - accuracy: 0.9685 - val_loss: 0.8217 - val_accuracy: 0.8178\n",
      "Epoch 49/50\n",
      "4/4 [==============================] - 0s 137ms/step - loss: 0.0906 - accuracy: 0.9775 - val_loss: 0.8729 - val_accuracy: 0.8178\n",
      "Epoch 50/50\n",
      "4/4 [==============================] - 0s 140ms/step - loss: 0.1247 - accuracy: 0.9640 - val_loss: 0.8994 - val_accuracy: 0.8178\n"
     ]
    }
   ],
   "source": [
    "plate_train = plate_model.fit(train_x, train_label, \n",
    "                                  batch_size=batch_size,\n",
    "                                  epochs=epochs,\n",
    "                                  verbose=1,\n",
    "                                  validation_data=(valid_x, valid_label))\n",
    "\n",
    "#shows 50 epochs for training"
   ]
  },
  {
   "cell_type": "code",
   "execution_count": 334,
   "metadata": {
    "id": "nekJaizb3jud"
   },
   "outputs": [
    {
     "name": "stdout",
     "output_type": "stream",
     "text": [
      "INFO:tensorflow:Assets written to: car_dropout.h5py\\assets\n"
     ]
    }
   ],
   "source": [
    "# save the model\n",
    "plate_model.save(\"car_dropout.h5py\") #sample"
   ]
  },
  {
   "cell_type": "code",
   "execution_count": 335,
   "metadata": {
    "id": "X_oLzo6x3jue"
   },
   "outputs": [],
   "source": [
    "#8. MODEL EVALUATION -------------------------"
   ]
  },
  {
   "cell_type": "code",
   "execution_count": 336,
   "metadata": {
    "id": "r824VEbo3jue"
   },
   "outputs": [
    {
     "name": "stdout",
     "output_type": "stream",
     "text": [
      "22/22 [==============================] - 0s 9ms/step - loss: 0.4734 - accuracy: 0.8915\n",
      "Test loss: 0.47342023253440857\n",
      "Test accuracy: 0.891530454158783\n"
     ]
    }
   ],
   "source": [
    "test_eval = plate_model.evaluate(test_x, test_y_one_hot, verbose=1)\n",
    "#shows the test loss and accuracy \n",
    "print('Test loss:', test_eval[0])\n",
    "print('Test accuracy:', test_eval[1])"
   ]
  },
  {
   "cell_type": "code",
   "execution_count": 337,
   "metadata": {
    "id": "XLhLu8u33jue"
   },
   "outputs": [
    {
     "data": {
      "image/png": "[encoded data removed]",
      "text/plain": [
       "<Figure size 432x288 with 1 Axes>"
      ]
     },
     "metadata": {
      "needs_background": "light"
     },
     "output_type": "display_data"
    },
    {
     "data": {
      "image/png": "[encoded data removed]",
      "text/plain": [
       "<Figure size 432x288 with 1 Axes>"
      ]
     },
     "metadata": {
      "needs_background": "light"
     },
     "output_type": "display_data"
    }
   ],
   "source": [
    "# plot the accuracy and loss points\n",
    "#shows graph of training and validation accuracy \n",
    "#shows graph of training and validation loss\n",
    "\n",
    "accuracy = plate_train.history['accuracy']\n",
    "val_accuracy = plate_train.history['val_accuracy']\n",
    "loss = plate_train.history['loss']\n",
    "val_loss = plate_train.history['val_loss']\n",
    "\n",
    "epochs = range(len(accuracy))\n",
    "plt.plot(epochs, accuracy, 'bo', label='Training accuracy')\n",
    "plt.plot(epochs, val_accuracy, 'b', label='Validation accuracy')\n",
    "\n",
    "plt.title('Training and validation accuracy')\n",
    "plt.legend()\n",
    "plt.figure()\n",
    "plt.plot(epochs, loss, 'bo', label='Training loss')\n",
    "plt.plot(epochs, val_loss, 'b', label='Validation loss')\n",
    "plt.title('Training and validation loss')\n",
    "plt.legend()\n",
    "plt.show()\n",
    "\n",
    "\n",
    "#result: validation loss and validation accuracy both are in sync with the training loss and training accuracy. \n",
    "# Even though the validation loss and accuracy line are not linear, \n",
    "#but it shows that your model is not overfitting: the validation loss is decreasing and \n",
    "#not increasing, and there is not much gap between training and validation accuracy.\n"
   ]
  },
  {
   "cell_type": "code",
   "execution_count": 338,
   "metadata": {
    "id": "YrInEGne3juf"
   },
   "outputs": [],
   "source": [
    "#9. PREDICT MODELS -----------------"
   ]
  },
  {
   "cell_type": "code",
   "execution_count": 339,
   "metadata": {
    "id": "ZoLAuskm3juf"
   },
   "outputs": [],
   "source": [
    "predicted_classes = plate_model.predict(test_x)"
   ]
  },
  {
   "cell_type": "code",
   "execution_count": 340,
   "metadata": {
    "id": "jwteCA1p3juf"
   },
   "outputs": [],
   "source": [
    "predicted_classes = np.argmax(np.round(predicted_classes),axis=1)"
   ]
  },
  {
   "cell_type": "code",
   "execution_count": 341,
   "metadata": {
    "id": "5cVZPucs3juf"
   },
   "outputs": [
    {
     "data": {
      "text/plain": [
       "((673,), (673,))"
      ]
     },
     "execution_count": 341,
     "metadata": {},
     "output_type": "execute_result"
    }
   ],
   "source": [
    "predicted_classes.shape, test_y.shape"
   ]
  },
  {
   "cell_type": "code",
   "execution_count": 342,
   "metadata": {
    "id": "XRyWpAdX3jug",
    "scrolled": true
   },
   "outputs": [
    {
     "name": "stdout",
     "output_type": "stream",
     "text": [
      "Found correct labels\n"
     ]
    },
    {
     "data": {
      "image/png": "[encoded data removed]",
      "text/plain": [
       "<Figure size 432x288 with 8 Axes>"
      ]
     },
     "metadata": {
      "needs_background": "light"
     },
     "output_type": "display_data"
    }
   ],
   "source": [
    "# FOUND CORRECT LABELS\n",
    "correct = np.where(predicted_classes==test_y)[0]\n",
    "print(\"Found correct labels\")\n",
    "for i, correct in enumerate(correct[:9]):\n",
    "    plt.subplot(3,3,i+1)\n",
    "    plt.imshow(test_x[correct].reshape(28,28), cmap='gray', interpolation='none')\n",
    "    plt.title(\"Predicted {}, Class {}\".format(predicted_classes[correct], test_y[correct]))\n",
    "    plt.tight_layout()"
   ]
  },
  {
   "cell_type": "code",
   "execution_count": 343,
   "metadata": {
    "id": "B3UAh17U3jug"
   },
   "outputs": [
    {
     "name": "stdout",
     "output_type": "stream",
     "text": [
      "Found incorrect labels\n"
     ]
    },
    {
     "data": {
      "image/png": "[encoded data removed]",
      "text/plain": [
       "<Figure size 432x288 with 8 Axes>"
      ]
     },
     "metadata": {
      "needs_background": "light"
     },
     "output_type": "display_data"
    }
   ],
   "source": [
    "#FOUND INCORRECT LABELS\n",
    "\n",
    "incorrect = np.where(predicted_classes!=test_y)[0]\n",
    "print(\"Found incorrect labels\")\n",
    "for i, incorrect in enumerate(incorrect[:9]):\n",
    "    plt.subplot(3,3,i+1)\n",
    "    plt.imshow(test_x[incorrect].reshape(28,28), cmap='gray', interpolation='none')\n",
    "    plt.title(\"Predicted {}, Class {}\".format(predicted_classes[incorrect], test_y[incorrect]))\n",
    "    plt.tight_layout()\n",
    "    \n",
    "#RESULTS: make sense because training accuracy is only about 89% "
   ]
  },
  {
   "cell_type": "code",
   "execution_count": 344,
   "metadata": {
    "id": "swRbG6dY3jug"
   },
   "outputs": [],
   "source": [
    "#10. CLASSIFICATION REPORT -----------------------\n",
    "#for identifying the misclassified classes in more detail."
   ]
  },
  {
   "cell_type": "code",
   "execution_count": 345,
   "metadata": {
    "id": "CCXxp6Bn3juh",
    "scrolled": false
   },
   "outputs": [
    {
     "name": "stdout",
     "output_type": "stream",
     "text": [
      "              precision    recall  f1-score   support\n",
      "\n",
      "     Class 0       0.43      0.90      0.58        29\n",
      "     Class 1       0.97      0.90      0.94        41\n",
      "     Class 2       1.00      0.93      0.96        44\n",
      "     Class 3       0.86      1.00      0.92        36\n",
      "     Class 4       1.00      0.92      0.96        37\n",
      "     Class 5       0.96      0.96      0.96        27\n",
      "     Class 6       1.00      0.90      0.95        48\n",
      "     Class 7       0.93      1.00      0.96        40\n",
      "     Class 8       0.90      0.98      0.93        44\n",
      "     Class 9       1.00      0.86      0.93        37\n",
      "    Class 10       0.92      1.00      0.96        45\n",
      "    Class 11       0.89      0.68      0.77        25\n",
      "    Class 12       0.90      1.00      0.95        19\n",
      "    Class 13       0.91      0.95      0.93        21\n",
      "    Class 14       1.00      0.93      0.96        14\n",
      "    Class 15       0.93      0.93      0.93        15\n",
      "    Class 16       1.00      0.50      0.67         8\n",
      "    Class 17       1.00      0.29      0.44         7\n",
      "    Class 18       0.80      0.67      0.73         6\n",
      "    Class 19       0.00      0.00      0.00         5\n",
      "    Class 20       1.00      1.00      1.00         9\n",
      "    Class 21       1.00      0.60      0.75         5\n",
      "    Class 22       0.80      1.00      0.89         4\n",
      "    Class 23       0.89      0.96      0.92        51\n",
      "    Class 24       0.58      0.78      0.67         9\n",
      "    Class 25       1.00      0.33      0.50         6\n",
      "    Class 26       1.00      0.60      0.75         5\n",
      "    Class 27       0.00      0.00      0.00         1\n",
      "    Class 28       1.00      0.50      0.67         4\n",
      "    Class 29       1.00      1.00      1.00         5\n",
      "    Class 30       1.00      0.20      0.33         5\n",
      "    Class 31       1.00      0.43      0.60         7\n",
      "    Class 32       0.40      0.40      0.40         5\n",
      "    Class 33       1.00      1.00      1.00         2\n",
      "    Class 34       0.67      0.67      0.67         3\n",
      "    Class 35       0.40      0.50      0.44         4\n",
      "\n",
      "    accuracy                           0.88       673\n",
      "   macro avg       0.84      0.73      0.75       673\n",
      "weighted avg       0.90      0.88      0.88       673\n",
      "\n"
     ]
    },
    {
     "name": "stderr",
     "output_type": "stream",
     "text": [
      "C:\\Users\\yelti\\anaconda3\\envs\\anpr\\lib\\site-packages\\sklearn\\metrics\\_classification.py:1248: UndefinedMetricWarning: Precision and F-score are ill-defined and being set to 0.0 in labels with no predicted samples. Use `zero_division` parameter to control this behavior.\n",
      "  _warn_prf(average, modifier, msg_start, len(result))\n",
      "C:\\Users\\yelti\\anaconda3\\envs\\anpr\\lib\\site-packages\\sklearn\\metrics\\_classification.py:1248: UndefinedMetricWarning: Precision and F-score are ill-defined and being set to 0.0 in labels with no predicted samples. Use `zero_division` parameter to control this behavior.\n",
      "  _warn_prf(average, modifier, msg_start, len(result))\n",
      "C:\\Users\\yelti\\anaconda3\\envs\\anpr\\lib\\site-packages\\sklearn\\metrics\\_classification.py:1248: UndefinedMetricWarning: Precision and F-score are ill-defined and being set to 0.0 in labels with no predicted samples. Use `zero_division` parameter to control this behavior.\n",
      "  _warn_prf(average, modifier, msg_start, len(result))\n"
     ]
    }
   ],
   "source": [
    "from sklearn.metrics import classification_report\n",
    "target_names = [\"Class {}\".format(i) for i in range(num_classes)]\n",
    "print(classification_report(test_y, predicted_classes, target_names=target_names))"
   ]
  },
  {
   "cell_type": "code",
   "execution_count": null,
   "metadata": {},
   "outputs": [],
   "source": []
  }
 ],
 "metadata": {
  "colab": {
   "provenance": []
  },
  "kernelspec": {
   "display_name": "Python 3",
   "language": "python",
   "name": "python3"
  },
  "language_info": {
   "codemirror_mode": {
    "name": "ipython",
    "version": 3
   },
   "file_extension": ".py",
   "mimetype": "text/x-python",
   "name": "python",
   "nbconvert_exporter": "python",
   "pygments_lexer": "ipython3",
   "version": "3.6.7"
  },
  "vscode": {
   "interpreter": {
    "hash": "5cddcde71aa4ce3ba390af3e241d1372a51719efe31a6ef089a82452c24550d6"
   }
  }
 },
 "nbformat": 4,
 "nbformat_minor": 1
}
